{
  "nbformat": 4,
  "nbformat_minor": 0,
  "metadata": {
    "colab": {
      "name": "funcion-coste-logistica.ipynb",
      "provenance": []
    },
    "kernelspec": {
      "name": "python3",
      "display_name": "Python 3"
    }
  },
  "cells": [
    {
      "cell_type": "markdown",
      "metadata": {
        "id": "LvCZIh39A01S",
        "colab_type": "text"
      },
      "source": [
        "<h1>Función de coste logístico</h1>\n"
      ]
    },
    {
      "cell_type": "code",
      "metadata": {
        "id": "tD7v_7Pn_Xfm",
        "colab_type": "code",
        "colab": {}
      },
      "source": [
        "import matplotlib.pyplot as plt\n",
        "import numpy as np"
      ],
      "execution_count": 1,
      "outputs": []
    },
    {
      "cell_type": "code",
      "metadata": {
        "id": "J19ubViT_ifP",
        "colab_type": "code",
        "colab": {}
      },
      "source": [
        "def sigmoid(z):\n",
        "    return 1.0 / (1.0 + np.exp(-z))"
      ],
      "execution_count": 2,
      "outputs": []
    },
    {
      "cell_type": "code",
      "metadata": {
        "id": "Zc0vPUfn_oHL",
        "colab_type": "code",
        "colab": {}
      },
      "source": [
        "def coste_clase_1(z):\n",
        "    return - np.log(sigmoid(z))"
      ],
      "execution_count": 3,
      "outputs": []
    },
    {
      "cell_type": "code",
      "metadata": {
        "id": "j5oFKL6g_08X",
        "colab_type": "code",
        "colab": {}
      },
      "source": [
        "def coste_clase_0(z):\n",
        "    return - np.log(1 - sigmoid(z))"
      ],
      "execution_count": 4,
      "outputs": []
    },
    {
      "cell_type": "markdown",
      "metadata": {
        "id": "XKkzUMfLADmh",
        "colab_type": "text"
      },
      "source": [
        "**Sobre la grafica**<br>\n",
        "Se observa que:<br>\n",
        "\n",
        "\n",
        "*   El coste se acerca a cero si se predice que una muestra pertenece a la clase correcta.\n",
        "*   El coste aumenta a infinito si se predice incorrectamente.\n",
        "\n",
        "Es decir, se penalizan las predicciones mal hechas con un coste cada vez mayor.\n",
        "\n"
      ]
    },
    {
      "cell_type": "code",
      "metadata": {
        "id": "FUjxIlLw_4lr",
        "colab_type": "code",
        "colab": {
          "base_uri": "https://localhost:8080/",
          "height": 297
        },
        "outputId": "ffa646a2-e8fa-4e29-e22f-87c422bd3735"
      },
      "source": [
        "z = np.arange(-10, 10, 0.1)\n",
        "phi_z = sigmoid(z)\n",
        "\n",
        "c1 = [coste_clase_1(x) for x in z]\n",
        "plt.plot(phi_z, c1, label='J(w) si y=1')\n",
        "\n",
        "c0 = [coste_clase_0(x) for x in z]\n",
        "plt.plot(phi_z, c0, linestyle='--', label='J(w) si y=0')\n",
        "\n",
        "plt.ylim(0.0, 5.1)\n",
        "plt.xlim([0, 1])\n",
        "plt.xlabel('$\\phi$(z)')\n",
        "plt.ylabel('J(w)')\n",
        "plt.legend(loc='best')\n",
        "plt.tight_layout()\n",
        "plt.show()"
      ],
      "execution_count": 8,
      "outputs": [
        {
          "output_type": "display_data",
          "data": {
            "image/png": "[encoded data removed]",
            "text/plain": [
              "<Figure size 432x288 with 1 Axes>"
            ]
          },
          "metadata": {
            "tags": [],
            "needs_background": "light"
          }
        }
      ]
    }
  ]
}